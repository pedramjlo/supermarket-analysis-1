{
 "cells": [
  {
   "cell_type": "code",
   "execution_count": 1,
   "id": "1088a047-d97d-4f43-ad48-4cb9f8048a86",
   "metadata": {},
   "outputs": [
    {
     "name": "stdout",
     "output_type": "stream",
     "text": [
      "Requirement already satisfied: pandas in /opt/anaconda3/lib/python3.12/site-packages (2.2.2)\n",
      "Requirement already satisfied: numpy>=1.26.0 in /opt/anaconda3/lib/python3.12/site-packages (from pandas) (1.26.4)\n",
      "Requirement already satisfied: python-dateutil>=2.8.2 in /opt/anaconda3/lib/python3.12/site-packages (from pandas) (2.9.0.post0)\n",
      "Requirement already satisfied: pytz>=2020.1 in /opt/anaconda3/lib/python3.12/site-packages (from pandas) (2024.1)\n",
      "Requirement already satisfied: tzdata>=2022.7 in /opt/anaconda3/lib/python3.12/site-packages (from pandas) (2023.3)\n",
      "Requirement already satisfied: six>=1.5 in /opt/anaconda3/lib/python3.12/site-packages (from python-dateutil>=2.8.2->pandas) (1.16.0)\n",
      "Note: you may need to restart the kernel to use updated packages.\n",
      "Requirement already satisfied: mysql-connector-python in /opt/anaconda3/lib/python3.12/site-packages (9.2.0)\n",
      "Note: you may need to restart the kernel to use updated packages.\n",
      "Requirement already satisfied: decouple in /opt/anaconda3/lib/python3.12/site-packages (0.0.7)\n",
      "Note: you may need to restart the kernel to use updated packages.\n",
      "Requirement already satisfied: pymysql in /opt/anaconda3/lib/python3.12/site-packages (1.1.1)\n",
      "Requirement already satisfied: sqlalchemy in /opt/anaconda3/lib/python3.12/site-packages (2.0.34)\n",
      "Requirement already satisfied: typing-extensions>=4.6.0 in /opt/anaconda3/lib/python3.12/site-packages (from sqlalchemy) (4.11.0)\n",
      "Note: you may need to restart the kernel to use updated packages.\n",
      "Requirement already satisfied: python-dotenv in /opt/anaconda3/lib/python3.12/site-packages (0.21.0)\n",
      "Note: you may need to restart the kernel to use updated packages.\n",
      "Requirement already satisfied: numpy in /opt/anaconda3/lib/python3.12/site-packages (1.26.4)\n",
      "Note: you may need to restart the kernel to use updated packages.\n",
      "Requirement already satisfied: plotly in /opt/anaconda3/lib/python3.12/site-packages (5.24.1)\n",
      "Requirement already satisfied: tenacity>=6.2.0 in /opt/anaconda3/lib/python3.12/site-packages (from plotly) (8.2.3)\n",
      "Requirement already satisfied: packaging in /opt/anaconda3/lib/python3.12/site-packages (from plotly) (24.1)\n",
      "Note: you may need to restart the kernel to use updated packages.\n"
     ]
    }
   ],
   "source": [
    "%pip install pandas \n",
    "%pip install mysql-connector-python\n",
    "%pip install decouple\n",
    "%pip install pymysql sqlalchemy\n",
    "%pip install python-dotenv\n",
    "%pip install numpy\n",
    "%pip install plotly\n",
    "\n"
   ]
  },
  {
   "cell_type": "code",
   "execution_count": 2,
   "id": "760deeda-542c-4dbb-a837-b3f0c133c7ca",
   "metadata": {},
   "outputs": [],
   "source": [
    "import os\n",
    "\n",
    "import pandas as pd\n",
    "import numpy as np\n",
    "\n",
    "\n",
    "from sqlalchemy import create_engine\n",
    "from dotenv import load_dotenv\n",
    "from datetime import datetime\n",
    "\n",
    "import seaborn as sns\n",
    "import matplotlib.pyplot as plt\n",
    "from matplotlib.ticker import MultipleLocator\n",
    "\n",
    "import plotly.express as px\n",
    "import plotly.graph_objects as go\n",
    "\n",
    "import scipy.stats as stats\n",
    "from scipy.stats import zscore\n",
    "\n",
    "\n",
    "import plotly.express as px\n",
    "import pandas as pd\n",
    "\n",
    "import logging\n",
    "\n",
    "\n",
    "\n",
    "\n"
   ]
  },
  {
   "cell_type": "code",
   "execution_count": 3,
   "id": "742af900-8a7e-42f5-90a3-99bc6f6cd68d",
   "metadata": {},
   "outputs": [],
   "source": [
    "logging.basicConfig(\n",
    "    level=logging.INFO,  \n",
    "    format='%(asctime)s - %(levelname)s - %(message)s',  # Log message format\n",
    "    # filename='app.log'  # Log to a file (optional)\n",
    ")"
   ]
  },
  {
   "cell_type": "code",
   "execution_count": 4,
   "id": "9c25036b-5fd3-497b-b59b-b0ba0505f877",
   "metadata": {},
   "outputs": [],
   "source": [
    "class DataLoader:\n",
    "    def __init__(self, raw_data):\n",
    "        self.raw_data = raw_data\n",
    "\n",
    "    def read_data(self):\n",
    "        \"\"\"\n",
    "        handling file existence, empty dataset, and parsing errors\n",
    "        \"\"\"\n",
    "        try:\n",
    "            return pd.read_csv(self.raw_data, encoding=\"ISO-8859-1\", engine='python')\n",
    "            logging.info(\"read the dataset successfully\")\n",
    "        except FileNotFoundError:\n",
    "            logging.error(\"Error: The file was not found.\")\n",
    "        except pd.errors.EmptyDataError:\n",
    "            logging.error(\"Error: The file is empty.\")\n",
    "        except pd.errors.ParserError:\n",
    "            logging.error(\"Error: The file could not be parsed.\")"
   ]
  },
  {
   "cell_type": "code",
   "execution_count": 5,
   "id": "084231af-e4c5-403f-bbd5-5021f448c9b4",
   "metadata": {},
   "outputs": [],
   "source": [
    "class DataCleaner:\n",
    "    def __init__(self, raw_data):\n",
    "        self.raw_data = raw_data\n",
    "\n",
    "\n",
    "    def percentage_of_rows_with_missing_values(self):\n",
    "        try:\n",
    "            rows_with_missing = self.raw_data.isnull().any(axis=1).sum()\n",
    "            total_rows = len(self.raw_data)\n",
    "            percentage = (rows_with_missing / total_rows) * 100\n",
    "            logging.info(f\"Successfully got the percentage, {percentage}\")\n",
    "        except Exception as e:\n",
    "            logging.error(f\"Failed to get the percentage, {e}\")\n",
    "\n",
    "\n",
    "    def percentage_of_duplicate_rows(self):\n",
    "        try:\n",
    "            total_rows = len(self.raw_data)\n",
    "            duplicate_rows = self.raw_data.duplicated().sum()\n",
    "            duplicate_percentage = (duplicate_rows / total_rows) * 100\n",
    "            logging.info(f\"Successfully got the percentage, {duplicate_percentage}\")\n",
    "        except Exception as e:\n",
    "            logging.error(f\"Failed to get the percentage, {e}\")\n",
    "\n",
    "\n",
    "    def rename_countries(self):\n",
    "        country_name = {\n",
    "            'EIRE':'Ireland',\n",
    "            'European Community':'European Union',\n",
    "            'RSA': 'South Africa'\n",
    "        }\n",
    "        \n",
    "        try:\n",
    "            self.raw_data.rename(columns=country_name, inplace=True)\n",
    "            logging.info(\"Successfully renamed country names\")\n",
    "        except Exception as e:\n",
    "            logging.error(f\"Failed to rename country names, {e}\")\n",
    "        "
   ]
  },
  {
   "cell_type": "code",
   "execution_count": 6,
   "id": "abf30cf3-be94-4ddd-9fb1-77c5b349bc1a",
   "metadata": {},
   "outputs": [],
   "source": [
    "if __name__ == \"__main__\":\n",
    "    raw_dataset = '../dataset/raw/data.csv'"
   ]
  },
  {
   "cell_type": "code",
   "execution_count": 7,
   "id": "12af6d89-8af8-40ce-b2b9-62c5a32e08b0",
   "metadata": {},
   "outputs": [],
   "source": [
    "    loader = DataLoader(raw_dataset)"
   ]
  },
  {
   "cell_type": "code",
   "execution_count": 8,
   "id": "2b70fe88-e46f-4715-ac53-dd98b86586f5",
   "metadata": {},
   "outputs": [],
   "source": [
    "    data = loader.read_data()"
   ]
  },
  {
   "cell_type": "code",
   "execution_count": 9,
   "id": "8b710e26-6465-4037-81f8-c8a6c7b66dd5",
   "metadata": {},
   "outputs": [
    {
     "name": "stdout",
     "output_type": "stream",
     "text": [
      "<class 'pandas.core.frame.DataFrame'>\n",
      "RangeIndex: 396681 entries, 0 to 396680\n",
      "Data columns (total 8 columns):\n",
      " #   Column       Non-Null Count   Dtype  \n",
      "---  ------       --------------   -----  \n",
      " 0   InvoiceNo    396681 non-null  object \n",
      " 1   StockCode    396681 non-null  object \n",
      " 2   Description  396681 non-null  object \n",
      " 3   Quantity     396681 non-null  float64\n",
      " 4   InvoiceDate  396681 non-null  object \n",
      " 5   UnitPrice    396681 non-null  float64\n",
      " 6   CustomerID   396681 non-null  float64\n",
      " 7   Country      396681 non-null  object \n",
      "dtypes: float64(3), object(5)\n",
      "memory usage: 24.2+ MB\n"
     ]
    }
   ],
   "source": [
    "    data.info()"
   ]
  },
  {
   "cell_type": "code",
   "execution_count": 10,
   "id": "20a17613-fd41-4db8-b67a-7814bcc7f096",
   "metadata": {},
   "outputs": [
    {
     "data": {
      "text/plain": [
       "Index(['InvoiceNo', 'StockCode', 'Description', 'Quantity', 'InvoiceDate',\n",
       "       'UnitPrice', 'CustomerID', 'Country'],\n",
       "      dtype='object')"
      ]
     },
     "execution_count": 10,
     "metadata": {},
     "output_type": "execute_result"
    }
   ],
   "source": [
    "    data.columns"
   ]
  },
  {
   "cell_type": "code",
   "execution_count": 11,
   "id": "78d65bbd-ce70-44cd-813e-59b1ace347ce",
   "metadata": {},
   "outputs": [
    {
     "name": "stdout",
     "output_type": "stream",
     "text": [
      "       InvoiceNo StockCode                          Description  Quantity  \\\n",
      "0         536365    85123A                           WHITE META       6.0   \n",
      "1         536365     71053                  WHITE METAL LANTERN       6.0   \n",
      "2         536365    84406B       CREAM CUPID HEARTS COAT HANGER       8.0   \n",
      "3         536365    84029G  KNITTED UNION FLAG HOT WATER BOTTLE       6.0   \n",
      "4         536365    84029E       RED WOOLLY HOTTIE WHITE HEART.       6.0   \n",
      "...          ...       ...                                  ...       ...   \n",
      "396676    581587     22613          PACK OF 20 SPACEBOY NAPKINS      12.0   \n",
      "396677    581587     22899         CHILDREN'S APRON DOLLY GIRL        6.0   \n",
      "396678    581587     23254        CHILDRENS CUTLERY DOLLY GIRL        4.0   \n",
      "396679    581587     23255      CHILDRENS CUTLERY CIRCUS PARADE       4.0   \n",
      "396680    581587     22138        BAKING SET 9 PIECE RETROSPOT        3.0   \n",
      "\n",
      "                InvoiceDate  UnitPrice  CustomerID         Country  \n",
      "0       2010-01-12 08:26:00       2.55     17850.0  United Kingdom  \n",
      "1       2010-01-12 08:26:00       3.39     17850.0  United Kingdom  \n",
      "2       2010-01-12 08:26:00       2.75     17850.0  United Kingdom  \n",
      "3       2010-01-12 08:26:00       3.39     17850.0  United Kingdom  \n",
      "4       2010-01-12 08:26:00       3.39     17850.0  United Kingdom  \n",
      "...                     ...        ...         ...             ...  \n",
      "396676  2011-09-12 12:50:00       0.85     12680.0          France  \n",
      "396677  2011-09-12 12:50:00       2.10     12680.0          France  \n",
      "396678  2011-09-12 12:50:00       4.15     12680.0          France  \n",
      "396679  2011-09-12 12:50:00       4.15     12680.0          France  \n",
      "396680  2011-09-12 12:50:00       4.95     12680.0          France  \n",
      "\n",
      "[396681 rows x 8 columns]\n"
     ]
    }
   ],
   "source": [
    "    print(data)"
   ]
  },
  {
   "cell_type": "code",
   "execution_count": 12,
   "id": "411cd60d-fccb-43c5-9453-b9b4a72cec8b",
   "metadata": {},
   "outputs": [],
   "source": [
    "    cleaner = DataCleaner(data)"
   ]
  },
  {
   "cell_type": "markdown",
   "id": "0c0fdeeb-e42d-4171-92e4-5838167c2aa4",
   "metadata": {},
   "source": [
    "# Percentage of rows with missing values\n",
    "There are no rows with missing values"
   ]
  },
  {
   "cell_type": "code",
   "execution_count": 14,
   "id": "037b9f1f-746d-4ba6-8dee-542660e2caf2",
   "metadata": {},
   "outputs": [
    {
     "name": "stderr",
     "output_type": "stream",
     "text": [
      "2025-03-16 12:58:29,954 - INFO - Successfully got the percentage, 0.0\n"
     ]
    }
   ],
   "source": [
    "    cleaner.percentage_of_rows_with_missing_values()"
   ]
  },
  {
   "cell_type": "code",
   "execution_count": 15,
   "id": "b3cc132d-87d8-4350-8037-545a1aca3d3d",
   "metadata": {},
   "outputs": [
    {
     "data": {
      "text/plain": [
       "array(['United Kingdom', 'France', 'Australia', 'Netherlands', 'Germany',\n",
       "       'Norway', 'EIRE', 'Switzerland', 'Spain', 'Poland', 'Portugal',\n",
       "       'Italy', 'Belgium', 'Lithuania', 'Japan', 'Iceland',\n",
       "       'Channel Islands', 'Denmark', 'Cyprus', 'Sweden', 'Austria',\n",
       "       'Israel', 'Finland', 'Greece', 'Singapore', 'Lebanon',\n",
       "       'United Arab Emirates', 'Saudi Arabia', 'Czech Republic', 'Canada',\n",
       "       'Unspecified', 'Brazil', 'USA', 'European Community', 'Bahrain',\n",
       "       'Malta', 'RSA'], dtype=object)"
      ]
     },
     "execution_count": 15,
     "metadata": {},
     "output_type": "execute_result"
    }
   ],
   "source": [
    "    data['Country'].unique()"
   ]
  },
  {
   "cell_type": "markdown",
   "id": "f0b9fc25-9ea9-480f-bf31-7e122a4b0f76",
   "metadata": {},
   "source": [
    "# Percentage of duplicate rows\n",
    "There are no duplicate rows"
   ]
  },
  {
   "cell_type": "code",
   "execution_count": 17,
   "id": "46b5af59-3c9e-44ee-811a-1f9a61f8d69a",
   "metadata": {},
   "outputs": [
    {
     "name": "stderr",
     "output_type": "stream",
     "text": [
      "2025-03-16 12:58:30,137 - INFO - Successfully got the percentage, 0.0\n"
     ]
    }
   ],
   "source": [
    "    cleaner.percentage_of_duplicate_rows()"
   ]
  },
  {
   "cell_type": "code",
   "execution_count": 18,
   "id": "20153433-a12c-4d01-9c4e-338b6fb4d32d",
   "metadata": {},
   "outputs": [
    {
     "name": "stderr",
     "output_type": "stream",
     "text": [
      "2025-03-16 12:58:30,140 - INFO - Successfully renamed country names\n"
     ]
    }
   ],
   "source": [
    "    cleaner.rename_countries()"
   ]
  },
  {
   "cell_type": "code",
   "execution_count": 38,
   "id": "93783176-4c84-4afc-b7f4-3694025f5801",
   "metadata": {},
   "outputs": [
    {
     "data": {
      "text/plain": [
       "array(['United Kingdom', 'France', 'Australia', 'Netherlands', 'Germany',\n",
       "       'Norway', 'EIRE', 'Switzerland', 'Spain', 'Poland', 'Portugal',\n",
       "       'Italy', 'Belgium', 'Lithuania', 'Japan', 'Iceland',\n",
       "       'Channel Islands', 'Denmark', 'Cyprus', 'Sweden', 'Austria',\n",
       "       'Israel', 'Finland', 'Greece', 'Singapore', 'Lebanon',\n",
       "       'United Arab Emirates', 'Saudi Arabia', 'Czech Republic', 'Canada',\n",
       "       'Unspecified', 'Brazil', 'USA', 'European Community', 'Bahrain',\n",
       "       'Malta', 'RSA'], dtype=object)"
      ]
     },
     "execution_count": 38,
     "metadata": {},
     "output_type": "execute_result"
    }
   ],
   "source": []
  },
  {
   "cell_type": "code",
   "execution_count": null,
   "id": "dcd9998b-6430-4112-8a93-3e6906dfe71a",
   "metadata": {},
   "outputs": [],
   "source": []
  }
 ],
 "metadata": {
  "kernelspec": {
   "display_name": "Python [conda env:base] *",
   "language": "python",
   "name": "conda-base-py"
  },
  "language_info": {
   "codemirror_mode": {
    "name": "ipython",
    "version": 3
   },
   "file_extension": ".py",
   "mimetype": "text/x-python",
   "name": "python",
   "nbconvert_exporter": "python",
   "pygments_lexer": "ipython3",
   "version": "3.12.7"
  }
 },
 "nbformat": 4,
 "nbformat_minor": 5
}
