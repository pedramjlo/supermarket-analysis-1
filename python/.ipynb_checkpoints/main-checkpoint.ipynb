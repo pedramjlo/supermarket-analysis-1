{
 "cells": [
  {
   "cell_type": "code",
   "execution_count": 1,
   "id": "1088a047-d97d-4f43-ad48-4cb9f8048a86",
   "metadata": {},
   "outputs": [
    {
     "name": "stdout",
     "output_type": "stream",
     "text": [
      "Requirement already satisfied: pandas in /opt/anaconda3/lib/python3.12/site-packages (2.2.2)\n",
      "Requirement already satisfied: numpy>=1.26.0 in /opt/anaconda3/lib/python3.12/site-packages (from pandas) (1.26.4)\n",
      "Requirement already satisfied: python-dateutil>=2.8.2 in /opt/anaconda3/lib/python3.12/site-packages (from pandas) (2.9.0.post0)\n",
      "Requirement already satisfied: pytz>=2020.1 in /opt/anaconda3/lib/python3.12/site-packages (from pandas) (2024.1)\n",
      "Requirement already satisfied: tzdata>=2022.7 in /opt/anaconda3/lib/python3.12/site-packages (from pandas) (2023.3)\n",
      "Requirement already satisfied: six>=1.5 in /opt/anaconda3/lib/python3.12/site-packages (from python-dateutil>=2.8.2->pandas) (1.16.0)\n",
      "Note: you may need to restart the kernel to use updated packages.\n",
      "Requirement already satisfied: mysql-connector-python in /opt/anaconda3/lib/python3.12/site-packages (9.2.0)\n",
      "Note: you may need to restart the kernel to use updated packages.\n",
      "Requirement already satisfied: decouple in /opt/anaconda3/lib/python3.12/site-packages (0.0.7)\n",
      "Note: you may need to restart the kernel to use updated packages.\n",
      "Requirement already satisfied: pymysql in /opt/anaconda3/lib/python3.12/site-packages (1.1.1)\n",
      "Requirement already satisfied: sqlalchemy in /opt/anaconda3/lib/python3.12/site-packages (2.0.34)\n",
      "Requirement already satisfied: typing-extensions>=4.6.0 in /opt/anaconda3/lib/python3.12/site-packages (from sqlalchemy) (4.11.0)\n",
      "Note: you may need to restart the kernel to use updated packages.\n",
      "Requirement already satisfied: python-dotenv in /opt/anaconda3/lib/python3.12/site-packages (0.21.0)\n",
      "Note: you may need to restart the kernel to use updated packages.\n"
     ]
    }
   ],
   "source": [
    "%pip install pandas \n",
    "%pip install mysql-connector-python\n",
    "%pip install decouple\n",
    "%pip install pymysql sqlalchemy\n",
    "%pip install python-dotenv\n",
    "\n"
   ]
  },
  {
   "cell_type": "code",
   "execution_count": 2,
   "id": "760deeda-542c-4dbb-a837-b3f0c133c7ca",
   "metadata": {},
   "outputs": [],
   "source": [
    "import os\n",
    "import pandas as pd\n",
    "import mysql.connector\n",
    "from sqlalchemy import create_engine\n",
    "from dotenv import load_dotenv\n",
    "from datetime import datetime\n",
    "import seaborn as sns\n",
    "import matplotlib.pyplot as plt\n"
   ]
  },
  {
   "cell_type": "code",
   "execution_count": 3,
   "id": "f121dc47-ea11-4e71-b90c-00497f040816",
   "metadata": {},
   "outputs": [
    {
     "data": {
      "text/plain": [
       "True"
      ]
     },
     "execution_count": 3,
     "metadata": {},
     "output_type": "execute_result"
    }
   ],
   "source": [
    "# Load environment variables from .env file (if you're using dotenv)\n",
    "load_dotenv()"
   ]
  },
  {
   "cell_type": "code",
   "execution_count": 4,
   "id": "e35ce3e3-307e-4d82-b282-f734ba09f3dc",
   "metadata": {},
   "outputs": [],
   "source": [
    "username = os.getenv('DB_USERNAME')\n",
    "password = os.getenv('DB_PASSWORD')\n",
    "host = os.getenv('DB_HOST')\n",
    "database = os.getenv('DB_NAME') \n",
    "\n",
    "engine = create_engine(f'mysql+pymysql://{username}:{password}@{host}/{database}')"
   ]
  },
  {
   "cell_type": "code",
   "execution_count": 5,
   "id": "09a2f551-851d-4a19-aef3-9135d3adda17",
   "metadata": {},
   "outputs": [],
   "source": [
    "class DatasetLoader:\n",
    "    def load_data(self, filepath):\n",
    "        return pd.read_csv(filepath, encoding = \"ISO-8859-1\", engine='python')"
   ]
  },
  {
   "cell_type": "code",
   "execution_count": 6,
   "id": "33db04b6-4f4e-45d3-8cff-70a7a7a0b97c",
   "metadata": {},
   "outputs": [],
   "source": [
    "import pandas as pd\n",
    "from sqlalchemy import create_engine\n",
    "\n",
    "class DataCleaner:\n",
    "    def handle_missing_values(self, data):\n",
    "        print(data.isnull().sum())  # Count missing values per column\n",
    "        data = data.dropna()  # Drop rows with any null values\n",
    "        return data\n",
    "\n",
    "    def check_header_data_types(self, data, data_types):\n",
    "        for column, dtype in data_types.items():\n",
    "            if column in data.columns:\n",
    "                try:\n",
    "                    data[column] = data[column].astype(dtype)\n",
    "                except ValueError as e:\n",
    "                    print(f\"Error converting {column} to {dtype}: {e}\")\n",
    "        return data\n",
    "\n",
    "    def validate_values(self, data):\n",
    "        data_types = {\n",
    "            \"InvoiceNo\": \"object\",\n",
    "            \"StockCode\": \"object\",\n",
    "            \"Description\": \"object\",\n",
    "            \"Quantity\": \"float64\",\n",
    "            \"InvoiceDate\": \"datetime64[ns]\",\n",
    "            \"UnitPrice\": \"float64\",\n",
    "            \"CustomerID\": \"float64\",\n",
    "            \"Country\": \"object\"\n",
    "        }\n",
    "        # Step 1: Fix data types first (may introduce new NaNs)\n",
    "        data = self.check_header_data_types(data, data_types)\n",
    "        \n",
    "        # Step 2: Remove duplicates based on key columns\n",
    "        data = self.handle_duplicates(data, subset=[\"InvoiceNo\", \"StockCode\"])\n",
    "        return data\n",
    "\n",
    "\n",
    "    def normalise_country_names(self, data):\n",
    "        data['Country'] = data['Country'].replace('RSA', 'South Africa')\n",
    "        data['Country'] = data['Country'].replace('EIRE', 'Ireland')\n",
    "\n",
    "    def handle_duplicates(self, data, subset=None, keep='first'):\n",
    "        \"\"\"\n",
    "        Remove duplicate rows and print a detailed report.\n",
    "        \"\"\"\n",
    "        # Track initial state\n",
    "        initial_rows = len(data)\n",
    "        duplicate_mask = data.duplicated(subset=subset, keep=keep)\n",
    "        duplicate_count = duplicate_mask.sum()\n",
    "    \n",
    "        # Print duplicate report\n",
    "        print(\"\\n=== Duplicate Report ===\")\n",
    "        print(f\"Initial rows: {initial_rows}\")\n",
    "        print(f\"Duplicate rows found: {duplicate_count}\")\n",
    "    \n",
    "        if duplicate_count > 0:\n",
    "            # Show example duplicates (first 2 rows)\n",
    "            print(\"\\nExample duplicate rows:\")\n",
    "            duplicates = data[duplicate_mask].head(2)\n",
    "            print(duplicates.to_string(index=False))\n",
    "    \n",
    "        # Remove duplicates\n",
    "        data_cleaned = data.drop_duplicates(subset=subset, keep=keep)\n",
    "        final_rows = len(data_cleaned)\n",
    "        print(f\"\\nRows after removal: {final_rows}\")\n",
    "        print(f\"Total duplicates removed: {initial_rows - final_rows}\")\n",
    "    \n",
    "        return data_cleaned\n",
    "\n",
    "    def unique_check(self, data):\n",
    "        for column in data.columns:\n",
    "            if data[column].duplicated().any():\n",
    "                print(f\"Warning: Duplicate values found in column {column}\")\n",
    "        return data\n",
    "\n",
    "\n",
    "    def separate_date_format(self, data):\n",
    "        df['InvoiceDate'] = pd.to_datetime(df['InvoiceDate'])\n",
    "        df['Date'] = df['InvoiceDate'].dt.date\n",
    "        df['Time'] = df['InvoiceDate'].dt.time\n",
    "\n",
    "    def save_changes(self, data):\n",
    "        data.to_csv('../dataset/cleaned_data.csv', index=False)\n",
    "        print(\"Cleaned data saved successfully!\")\n",
    "        return data\n",
    "\n",
    "    def save_to_sql(self, data, table_name):\n",
    "        username = os.getenv('DB_USERNAME')\n",
    "        password = os.getenv('DB_PASSWORD')\n",
    "        host = os.getenv('DB_HOST')\n",
    "        database = os.getenv('DB_NAME')\n",
    "\n",
    "        engine = create_engine(f'mysql+pymysql://{username}:{password}@{host}/{database}')\n",
    "        data.to_sql(table_name, con=engine, if_exists='replace', index=False)\n",
    "        print(f\"Data saved to {table_name} table successfully!\")\n"
   ]
  },
  {
   "cell_type": "code",
   "execution_count": 7,
   "id": "b9c10b8c-89ea-4f56-b5ec-0c7a58feb94a",
   "metadata": {},
   "outputs": [],
   "source": [
    "class ExploreData:\n",
    "    def total_revenue(self, data):\n",
    "        data['TotalSold'] = data['Quantity'] * data['UnitPrice']\n",
    "        total_revenue = \"${:,.2f}\".format(data['TotalSold'].sum())\n",
    "        return total_revenue\n",
    "\n",
    "\n",
    "    def sales_by_country(self, data):\n",
    "        sales_by_country = data.groupby('Country')['TotalSold'].sum().reset_index()\n",
    "        return sales_by_country\n",
    "\n",
    "    \n",
    "    def singapore(self, data):\n",
    "        # Filter the DataFrame for rows where the 'Country' is 'Singapore'\n",
    "        singapore_data = data[data['Country'] == 'Singapore']\n",
    "        \n",
    "        # Calculate the mean UnitPrice\n",
    "        # average_price = singapore_data['UnitPrice']\n",
    "        \n",
    "        sns.boxplot(x='UnitPrice', data=singapore_data)\n",
    "        plt.title('Price Box Plot in Singapore')\n",
    "        plt.show()\n",
    "\n",
    "\n",
    "        singapore_data = singapore_data[['UnitPrice']].median()\n",
    "        \n",
    "        return singapore_data\n",
    "\n",
    "\n",
    "    \n",
    "    \n",
    "    def average_price_by_country(self, data):\n",
    "        average_price_by_country = data.groupby('Country')['UnitPrice'].median().reset_index()\n",
    "        \n",
    "        # Rename columns\n",
    "        average_price_by_country = average_price_by_country.rename(columns={\n",
    "            'Country': 'Country',\n",
    "            'UnitPrice': 'AveragePrice'\n",
    "        })\n",
    "\n",
    "        average_price_by_country['AveragePrice'] = average_price_by_country['AveragePrice'].map('{:.2f}'.format)\n",
    "        # Extract data for the pie chart\n",
    "        labels = data['Country']\n",
    "        sizes = data['UnitPrice']\n",
    "        \n",
    "        # Create the pie chart\n",
    "        plt.figure(figsize=(8, 6))\n",
    "        plt.pie(sizes, labels=labels, autopct='%1.1f%%', startangle=140)\n",
    "        \n",
    "        # Equal aspect ratio ensures that pie is drawn as a circle\n",
    "        plt.axis('equal')\n",
    "        \n",
    "        # Title\n",
    "        plt.title('Sales by Country')\n",
    "        \n",
    "        # Display the pie chart\n",
    "        plt.show()\n",
    "        \n",
    "        return average_price_by_country"
   ]
  },
  {
   "cell_type": "code",
   "execution_count": 8,
   "id": "69097447-1800-433a-b0e1-05e35e48e02b",
   "metadata": {},
   "outputs": [
    {
     "name": "stdout",
     "output_type": "stream",
     "text": [
      "InvoiceNo      0\n",
      "StockCode      0\n",
      "Description    0\n",
      "Quantity       0\n",
      "InvoiceDate    0\n",
      "UnitPrice      0\n",
      "CustomerID     0\n",
      "Country        0\n",
      "dtype: int64\n",
      "\n",
      "=== Duplicate Report ===\n",
      "Initial rows: 396681\n",
      "Duplicate rows found: 0\n",
      "\n",
      "Rows after removal: 396681\n",
      "Total duplicates removed: 0\n",
      "Warning: Duplicate values found in column InvoiceNo\n",
      "Warning: Duplicate values found in column StockCode\n",
      "Warning: Duplicate values found in column Description\n",
      "Warning: Duplicate values found in column Quantity\n",
      "Warning: Duplicate values found in column InvoiceDate\n",
      "Warning: Duplicate values found in column UnitPrice\n",
      "Warning: Duplicate values found in column CustomerID\n",
      "Warning: Duplicate values found in column Country\n"
     ]
    }
   ],
   "source": [
    "\n",
    "if __name__ == \"__main__\":\n",
    "    # Load your data\n",
    "    df = pd.read_csv('../dataset/data.csv')\n",
    "\n",
    "    \n",
    "    # Instantiate DataCleaner and clean your data\n",
    "    cleaner = DataCleaner()\n",
    "    df = cleaner.handle_missing_values(df)\n",
    "    df = cleaner.validate_values(df)\n",
    "    df = cleaner.unique_check(df)\n",
    "    \n",
    "\n",
    "    \n",
    "    \n",
    "\n",
    "    "
   ]
  },
  {
   "cell_type": "code",
   "execution_count": 9,
   "id": "b9a10fb4-deec-45ea-838f-bbd70cadcb18",
   "metadata": {},
   "outputs": [
    {
     "name": "stdout",
     "output_type": "stream",
     "text": [
      "<class 'pandas.core.frame.DataFrame'>\n",
      "RangeIndex: 396681 entries, 0 to 396680\n",
      "Data columns (total 8 columns):\n",
      " #   Column       Non-Null Count   Dtype         \n",
      "---  ------       --------------   -----         \n",
      " 0   InvoiceNo    396681 non-null  object        \n",
      " 1   StockCode    396681 non-null  object        \n",
      " 2   Description  396681 non-null  object        \n",
      " 3   Quantity     396681 non-null  float64       \n",
      " 4   InvoiceDate  396681 non-null  datetime64[ns]\n",
      " 5   UnitPrice    396681 non-null  float64       \n",
      " 6   CustomerID   396681 non-null  float64       \n",
      " 7   Country      396681 non-null  object        \n",
      "dtypes: datetime64[ns](1), float64(3), object(4)\n",
      "memory usage: 24.2+ MB\n"
     ]
    }
   ],
   "source": [
    "    df.describe()\n",
    "    df.info()"
   ]
  },
  {
   "cell_type": "code",
   "execution_count": 10,
   "id": "cfb10cbf-9534-4e76-809f-54c4bc41fc77",
   "metadata": {},
   "outputs": [
    {
     "name": "stdout",
     "output_type": "stream",
     "text": [
      "Cleaned data saved successfully!\n"
     ]
    },
    {
     "data": {
      "text/html": [
       "<div>\n",
       "<style scoped>\n",
       "    .dataframe tbody tr th:only-of-type {\n",
       "        vertical-align: middle;\n",
       "    }\n",
       "\n",
       "    .dataframe tbody tr th {\n",
       "        vertical-align: top;\n",
       "    }\n",
       "\n",
       "    .dataframe thead th {\n",
       "        text-align: right;\n",
       "    }\n",
       "</style>\n",
       "<table border=\"1\" class=\"dataframe\">\n",
       "  <thead>\n",
       "    <tr style=\"text-align: right;\">\n",
       "      <th></th>\n",
       "      <th>InvoiceNo</th>\n",
       "      <th>StockCode</th>\n",
       "      <th>Description</th>\n",
       "      <th>Quantity</th>\n",
       "      <th>InvoiceDate</th>\n",
       "      <th>UnitPrice</th>\n",
       "      <th>CustomerID</th>\n",
       "      <th>Country</th>\n",
       "    </tr>\n",
       "  </thead>\n",
       "  <tbody>\n",
       "    <tr>\n",
       "      <th>0</th>\n",
       "      <td>536365</td>\n",
       "      <td>85123A</td>\n",
       "      <td>WHITE META</td>\n",
       "      <td>6.0</td>\n",
       "      <td>2010-01-12 08:26:00</td>\n",
       "      <td>2.55</td>\n",
       "      <td>17850.0</td>\n",
       "      <td>United Kingdom</td>\n",
       "    </tr>\n",
       "    <tr>\n",
       "      <th>1</th>\n",
       "      <td>536365</td>\n",
       "      <td>71053</td>\n",
       "      <td>WHITE METAL LANTERN</td>\n",
       "      <td>6.0</td>\n",
       "      <td>2010-01-12 08:26:00</td>\n",
       "      <td>3.39</td>\n",
       "      <td>17850.0</td>\n",
       "      <td>United Kingdom</td>\n",
       "    </tr>\n",
       "    <tr>\n",
       "      <th>2</th>\n",
       "      <td>536365</td>\n",
       "      <td>84406B</td>\n",
       "      <td>CREAM CUPID HEARTS COAT HANGER</td>\n",
       "      <td>8.0</td>\n",
       "      <td>2010-01-12 08:26:00</td>\n",
       "      <td>2.75</td>\n",
       "      <td>17850.0</td>\n",
       "      <td>United Kingdom</td>\n",
       "    </tr>\n",
       "    <tr>\n",
       "      <th>3</th>\n",
       "      <td>536365</td>\n",
       "      <td>84029G</td>\n",
       "      <td>KNITTED UNION FLAG HOT WATER BOTTLE</td>\n",
       "      <td>6.0</td>\n",
       "      <td>2010-01-12 08:26:00</td>\n",
       "      <td>3.39</td>\n",
       "      <td>17850.0</td>\n",
       "      <td>United Kingdom</td>\n",
       "    </tr>\n",
       "    <tr>\n",
       "      <th>4</th>\n",
       "      <td>536365</td>\n",
       "      <td>84029E</td>\n",
       "      <td>RED WOOLLY HOTTIE WHITE HEART.</td>\n",
       "      <td>6.0</td>\n",
       "      <td>2010-01-12 08:26:00</td>\n",
       "      <td>3.39</td>\n",
       "      <td>17850.0</td>\n",
       "      <td>United Kingdom</td>\n",
       "    </tr>\n",
       "    <tr>\n",
       "      <th>...</th>\n",
       "      <td>...</td>\n",
       "      <td>...</td>\n",
       "      <td>...</td>\n",
       "      <td>...</td>\n",
       "      <td>...</td>\n",
       "      <td>...</td>\n",
       "      <td>...</td>\n",
       "      <td>...</td>\n",
       "    </tr>\n",
       "    <tr>\n",
       "      <th>396676</th>\n",
       "      <td>581587</td>\n",
       "      <td>22613</td>\n",
       "      <td>PACK OF 20 SPACEBOY NAPKINS</td>\n",
       "      <td>12.0</td>\n",
       "      <td>2011-09-12 12:50:00</td>\n",
       "      <td>0.85</td>\n",
       "      <td>12680.0</td>\n",
       "      <td>France</td>\n",
       "    </tr>\n",
       "    <tr>\n",
       "      <th>396677</th>\n",
       "      <td>581587</td>\n",
       "      <td>22899</td>\n",
       "      <td>CHILDREN'S APRON DOLLY GIRL</td>\n",
       "      <td>6.0</td>\n",
       "      <td>2011-09-12 12:50:00</td>\n",
       "      <td>2.10</td>\n",
       "      <td>12680.0</td>\n",
       "      <td>France</td>\n",
       "    </tr>\n",
       "    <tr>\n",
       "      <th>396678</th>\n",
       "      <td>581587</td>\n",
       "      <td>23254</td>\n",
       "      <td>CHILDRENS CUTLERY DOLLY GIRL</td>\n",
       "      <td>4.0</td>\n",
       "      <td>2011-09-12 12:50:00</td>\n",
       "      <td>4.15</td>\n",
       "      <td>12680.0</td>\n",
       "      <td>France</td>\n",
       "    </tr>\n",
       "    <tr>\n",
       "      <th>396679</th>\n",
       "      <td>581587</td>\n",
       "      <td>23255</td>\n",
       "      <td>CHILDRENS CUTLERY CIRCUS PARADE</td>\n",
       "      <td>4.0</td>\n",
       "      <td>2011-09-12 12:50:00</td>\n",
       "      <td>4.15</td>\n",
       "      <td>12680.0</td>\n",
       "      <td>France</td>\n",
       "    </tr>\n",
       "    <tr>\n",
       "      <th>396680</th>\n",
       "      <td>581587</td>\n",
       "      <td>22138</td>\n",
       "      <td>BAKING SET 9 PIECE RETROSPOT</td>\n",
       "      <td>3.0</td>\n",
       "      <td>2011-09-12 12:50:00</td>\n",
       "      <td>4.95</td>\n",
       "      <td>12680.0</td>\n",
       "      <td>France</td>\n",
       "    </tr>\n",
       "  </tbody>\n",
       "</table>\n",
       "<p>396681 rows × 8 columns</p>\n",
       "</div>"
      ],
      "text/plain": [
       "       InvoiceNo StockCode                          Description  Quantity  \\\n",
       "0         536365    85123A                           WHITE META       6.0   \n",
       "1         536365     71053                  WHITE METAL LANTERN       6.0   \n",
       "2         536365    84406B       CREAM CUPID HEARTS COAT HANGER       8.0   \n",
       "3         536365    84029G  KNITTED UNION FLAG HOT WATER BOTTLE       6.0   \n",
       "4         536365    84029E       RED WOOLLY HOTTIE WHITE HEART.       6.0   \n",
       "...          ...       ...                                  ...       ...   \n",
       "396676    581587     22613          PACK OF 20 SPACEBOY NAPKINS      12.0   \n",
       "396677    581587     22899         CHILDREN'S APRON DOLLY GIRL        6.0   \n",
       "396678    581587     23254        CHILDRENS CUTLERY DOLLY GIRL        4.0   \n",
       "396679    581587     23255      CHILDRENS CUTLERY CIRCUS PARADE       4.0   \n",
       "396680    581587     22138        BAKING SET 9 PIECE RETROSPOT        3.0   \n",
       "\n",
       "               InvoiceDate  UnitPrice  CustomerID         Country  \n",
       "0      2010-01-12 08:26:00       2.55     17850.0  United Kingdom  \n",
       "1      2010-01-12 08:26:00       3.39     17850.0  United Kingdom  \n",
       "2      2010-01-12 08:26:00       2.75     17850.0  United Kingdom  \n",
       "3      2010-01-12 08:26:00       3.39     17850.0  United Kingdom  \n",
       "4      2010-01-12 08:26:00       3.39     17850.0  United Kingdom  \n",
       "...                    ...        ...         ...             ...  \n",
       "396676 2011-09-12 12:50:00       0.85     12680.0          France  \n",
       "396677 2011-09-12 12:50:00       2.10     12680.0          France  \n",
       "396678 2011-09-12 12:50:00       4.15     12680.0          France  \n",
       "396679 2011-09-12 12:50:00       4.15     12680.0          France  \n",
       "396680 2011-09-12 12:50:00       4.95     12680.0          France  \n",
       "\n",
       "[396681 rows x 8 columns]"
      ]
     },
     "execution_count": 10,
     "metadata": {},
     "output_type": "execute_result"
    }
   ],
   "source": [
    "    cleaner.save_changes(df)"
   ]
  },
  {
   "cell_type": "markdown",
   "id": "80812f87-773c-434b-a0a3-953bf6b1b337",
   "metadata": {},
   "source": [
    "The total revenue "
   ]
  },
  {
   "cell_type": "code",
   "execution_count": 12,
   "id": "c7b5d968-739a-402f-8e23-91ed43f2ed9b",
   "metadata": {},
   "outputs": [
    {
     "name": "stdout",
     "output_type": "stream",
     "text": [
      "Total Revenue: $8,246,367.30\n"
     ]
    }
   ],
   "source": [
    "    explorer = ExploreData()\n",
    "    total_revenue = explorer.total_revenue(df)\n",
    "    print(f\"Total Revenue: {total_revenue}\")"
   ]
  },
  {
   "cell_type": "markdown",
   "id": "d101c6b1-ae12-472e-80a4-a0f391260d2e",
   "metadata": {},
   "source": [
    "The sales by country"
   ]
  },
  {
   "cell_type": "code",
   "execution_count": 14,
   "id": "28f8526c-8dbb-4f61-9a5b-c90c45d0dca6",
   "metadata": {},
   "outputs": [
    {
     "name": "stdout",
     "output_type": "stream",
     "text": [
      "Sales by countries:                  Country    TotalSold\n",
      "0              Australia   136976.570\n",
      "1                Austria    10154.320\n",
      "2                Bahrain      548.400\n",
      "3                Belgium    40910.960\n",
      "4                 Brazil     1143.600\n",
      "5                 Canada     3666.380\n",
      "6        Channel Islands    20076.390\n",
      "7                 Cyprus    12726.760\n",
      "8         Czech Republic      707.720\n",
      "9                Denmark    18726.890\n",
      "10                  EIRE   249985.280\n",
      "11    European Community     1291.750\n",
      "12               Finland    22125.140\n",
      "13                France   196516.480\n",
      "14               Germany   221004.020\n",
      "15                Greece     4710.520\n",
      "16               Iceland     4310.000\n",
      "17                Israel     6988.400\n",
      "18                 Italy    16890.510\n",
      "19                 Japan    35340.620\n",
      "20               Lebanon     1693.880\n",
      "21             Lithuania     1661.060\n",
      "22                 Malta     2505.470\n",
      "23           Netherlands   284661.540\n",
      "24                Norway    34883.410\n",
      "25                Poland     7213.140\n",
      "26              Portugal    28872.910\n",
      "27                   RSA     1002.310\n",
      "28          Saudi Arabia      131.170\n",
      "29             Singapore     9120.390\n",
      "30                 Spain    54649.670\n",
      "31                Sweden    36585.410\n",
      "32           Switzerland    55739.400\n",
      "33                   USA     1730.920\n",
      "34  United Arab Emirates     1902.280\n",
      "35        United Kingdom  6716562.413\n",
      "36           Unspecified     2651.220\n"
     ]
    }
   ],
   "source": [
    "    sale_by_country = explorer.sales_by_country(df)\n",
    "    print(f\"Sales by countries: {sale_by_country}\")"
   ]
  },
  {
   "cell_type": "markdown",
   "id": "8e905d5d-bdba-45c2-a60c-f49baf70cbee",
   "metadata": {},
   "source": [
    "Total sales by season, month"
   ]
  },
  {
   "cell_type": "code",
   "execution_count": 16,
   "id": "05bb4df1-78a2-430f-a0f8-f8163f350460",
   "metadata": {},
   "outputs": [
    {
     "name": "stdout",
     "output_type": "stream",
     "text": [
      "                 Country AveragePrice\n",
      "0              Australia         1.79\n",
      "1                Austria         1.95\n",
      "2                Bahrain         2.95\n",
      "3                Belgium         1.95\n",
      "4                 Brazil         3.32\n",
      "5                 Canada         1.65\n",
      "6        Channel Islands         2.55\n",
      "7                 Cyprus         2.95\n",
      "8         Czech Republic         1.45\n",
      "9                Denmark         1.95\n",
      "10                  EIRE         2.10\n",
      "11    European Community         3.35\n",
      "12               Finland         2.08\n",
      "13                France         1.79\n",
      "14               Germany         1.95\n",
      "15                Greece         2.10\n",
      "16               Iceland         2.02\n",
      "17                Israel         1.65\n",
      "18                 Italy         2.55\n",
      "19                 Japan         1.65\n",
      "20               Lebanon         3.95\n",
      "21             Lithuania         2.55\n",
      "22                 Malta         2.95\n",
      "23           Netherlands         1.45\n",
      "24                Norway         2.02\n",
      "25                Poland         2.08\n",
      "26              Portugal         1.65\n",
      "27                   RSA         2.95\n",
      "28          Saudi Arabia         2.30\n",
      "29             Singapore         2.10\n",
      "30                 Spain         2.08\n",
      "31                Sweden         1.65\n",
      "32           Switzerland         1.79\n",
      "33                   USA         1.45\n",
      "34  United Arab Emirates         1.67\n",
      "35        United Kingdom         1.95\n",
      "36           Unspecified         2.08\n"
     ]
    }
   ],
   "source": [
    "    average_price_by_country = explorer.average_price_by_country(df)\n",
    "    print(average_price_by_country)"
   ]
  },
  {
   "cell_type": "code",
   "execution_count": 17,
   "id": "3c0416b9-7123-4a1c-9846-2d49d7b4edb8",
   "metadata": {},
   "outputs": [
    {
     "data": {
      "image/png": "[encoded data removed]",
      "text/plain": [
       "<Figure size 640x480 with 1 Axes>"
      ]
     },
     "metadata": {},
     "output_type": "display_data"
    },
    {
     "name": "stdout",
     "output_type": "stream",
     "text": [
      "UnitPrice    2.1\n",
      "dtype: float64\n"
     ]
    }
   ],
   "source": [
    "    singa = explorer.singapore(df)\n",
    "    print(singa)"
   ]
  },
  {
   "cell_type": "code",
   "execution_count": 18,
   "id": "a0c1c92f-ca43-40c2-b6ee-a37b05204f23",
   "metadata": {},
   "outputs": [
    {
     "ename": "AttributeError",
     "evalue": "'ExploreData' object has no attribute 'france'",
     "output_type": "error",
     "traceback": [
      "\u001b[0;31m---------------------------------------------------------------------------\u001b[0m",
      "\u001b[0;31mAttributeError\u001b[0m                            Traceback (most recent call last)",
      "Cell \u001b[0;32mIn[18], line 1\u001b[0m\n\u001b[0;32m----> 1\u001b[0m singa \u001b[38;5;241m=\u001b[39m explorer\u001b[38;5;241m.\u001b[39mfrance(df)\n\u001b[1;32m      2\u001b[0m \u001b[38;5;28mprint\u001b[39m(singa)\n",
      "\u001b[0;31mAttributeError\u001b[0m: 'ExploreData' object has no attribute 'france'"
     ]
    }
   ],
   "source": [
    "    singa = explorer.france(df)\n",
    "    print(singa)"
   ]
  },
  {
   "cell_type": "code",
   "execution_count": null,
   "id": "33c154a6-683c-4553-8357-fefb8a9ceb18",
   "metadata": {},
   "outputs": [],
   "source": []
  }
 ],
 "metadata": {
  "kernelspec": {
   "display_name": "Python [conda env:base] *",
   "language": "python",
   "name": "conda-base-py"
  },
  "language_info": {
   "codemirror_mode": {
    "name": "ipython",
    "version": 3
   },
   "file_extension": ".py",
   "mimetype": "text/x-python",
   "name": "python",
   "nbconvert_exporter": "python",
   "pygments_lexer": "ipython3",
   "version": "3.12.7"
  }
 },
 "nbformat": 4,
 "nbformat_minor": 5
}
