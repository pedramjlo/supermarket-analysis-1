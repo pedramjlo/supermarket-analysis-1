{
 "cells": [
  {
   "cell_type": "code",
   "execution_count": 1,
   "id": "1088a047-d97d-4f43-ad48-4cb9f8048a86",
   "metadata": {},
   "outputs": [
    {
     "name": "stdout",
     "output_type": "stream",
     "text": [
      "Requirement already satisfied: pandas in /opt/anaconda3/lib/python3.12/site-packages (2.2.2)\n",
      "Requirement already satisfied: numpy>=1.26.0 in /opt/anaconda3/lib/python3.12/site-packages (from pandas) (1.26.4)\n",
      "Requirement already satisfied: python-dateutil>=2.8.2 in /opt/anaconda3/lib/python3.12/site-packages (from pandas) (2.9.0.post0)\n",
      "Requirement already satisfied: pytz>=2020.1 in /opt/anaconda3/lib/python3.12/site-packages (from pandas) (2024.1)\n",
      "Requirement already satisfied: tzdata>=2022.7 in /opt/anaconda3/lib/python3.12/site-packages (from pandas) (2023.3)\n",
      "Requirement already satisfied: six>=1.5 in /opt/anaconda3/lib/python3.12/site-packages (from python-dateutil>=2.8.2->pandas) (1.16.0)\n",
      "Note: you may need to restart the kernel to use updated packages.\n"
     ]
    }
   ],
   "source": [
    "%pip install pandas "
   ]
  },
  {
   "cell_type": "code",
   "execution_count": 2,
   "id": "760deeda-542c-4dbb-a837-b3f0c133c7ca",
   "metadata": {},
   "outputs": [],
   "source": [
    "import os\n",
    "import pandas as pd\n"
   ]
  },
  {
   "cell_type": "code",
   "execution_count": 3,
   "id": "09a2f551-851d-4a19-aef3-9135d3adda17",
   "metadata": {},
   "outputs": [],
   "source": [
    "class DatasetLoader:\n",
    "    def load_data(self, filepath):\n",
    "        return pd.read_csv(filepath, encoding = \"ISO-8859-1\", engine='python')"
   ]
  },
  {
   "cell_type": "code",
   "execution_count": 20,
   "id": "33db04b6-4f4e-45d3-8cff-70a7a7a0b97c",
   "metadata": {},
   "outputs": [],
   "source": [
    "\n",
    "\n",
    "class DataCleaner:\n",
    "    def handle_missing_values(self, data):\n",
    "        print(data.isnull().sum())  # Count missing values per column\n",
    "        data = data.dropna()  # Drop rows with any null values\n",
    "        return data\n",
    "\n",
    "    def check_header_data_types(self, data, data_types):\n",
    "        for column, dtype in data_types.items():\n",
    "            if column in data.columns:\n",
    "                try:\n",
    "                    data[column] = data[column].astype(dtype)\n",
    "                except ValueError as e:\n",
    "                    print(f\"Error converting {column} to {dtype}: {e}\")\n",
    "        return data\n",
    "\n",
    "    def validate_values(self, data):\n",
    "        data_types = {\n",
    "            \"InvoiceNo\": \"object\",\n",
    "            \"StockCode\": \"object\",\n",
    "            \"Description\": \"object\",\n",
    "            \"Quantity\": \"float64\",\n",
    "            \"InvoiceDate\": \"datetime64[ns]\",\n",
    "            \"UnitPrice\": \"float64\",\n",
    "            \"CustomerID\": \"float64\",\n",
    "            \"Country\": \"object\"\n",
    "        }\n",
    "        # Step 1: Fix data types first (may introduce new NaNs)\n",
    "        data = self.check_header_data_types(data, data_types)\n",
    "        \n",
    "        # Step 2: Remove duplicates based on key columns\n",
    "        data = self.handle_duplicates(data, subset=[\"InvoiceNo\", \"StockCode\"])\n",
    "        return data\n",
    "    \n",
    "    \n",
    "\n",
    "    def handle_duplicates(self, data, subset=None, keep='first'):\n",
    "        \"\"\"\n",
    "        Remove duplicate rows and print a detailed report.\n",
    "        \"\"\"\n",
    "        # Track initial state\n",
    "        initial_rows = len(data)\n",
    "        duplicate_mask = data.duplicated(subset=subset, keep=keep)\n",
    "        duplicate_count = duplicate_mask.sum()\n",
    "    \n",
    "        # Print duplicate report\n",
    "        print(\"\\n=== Duplicate Report ===\")\n",
    "        print(f\"Initial rows: {initial_rows}\")\n",
    "        print(f\"Duplicate rows found: {duplicate_count}\")\n",
    "    \n",
    "        if duplicate_count > 0:\n",
    "            # Show example duplicates (first 2 rows)\n",
    "            print(\"\\nExample duplicate rows:\")\n",
    "            duplicates = data[duplicate_mask].head(2)\n",
    "            print(duplicates.to_string(index=False))\n",
    "    \n",
    "        # Remove duplicates\n",
    "        data_cleaned = data.drop_duplicates(subset=subset, keep=keep)\n",
    "        final_rows = len(data_cleaned)\n",
    "        print(f\"\\nRows after removal: {final_rows}\")\n",
    "        print(f\"Total duplicates removed: {initial_rows - final_rows}\")\n",
    "    \n",
    "        return data_cleaned\n",
    "\n",
    "    def unique_check(self, data):\n",
    "            for column in data.columns:\n",
    "                if data[column].duplicated().any():\n",
    "                    print(f\"Warning: Duplicate values found in column {column}\")\n",
    "            return data\n",
    "\n",
    "    def save_chanegs(self, data):\n",
    "        data.to_csv('../dataset/cleaned_data.csv', index=False)\n",
    "        print(\"Cleaned data saved successfully!\")\n",
    "        return data"
   ]
  },
  {
   "cell_type": "code",
   "execution_count": 22,
   "id": "4493e023-8431-40da-b8d9-136a13eb0260",
   "metadata": {},
   "outputs": [
    {
     "name": "stdout",
     "output_type": "stream",
     "text": [
      "Initial shape: (541909, 8)\n"
     ]
    }
   ],
   "source": [
    "filepath = \"../dataset/data.csv\"\n",
    "loader = DatasetLoader()\n",
    "# Load data\n",
    "data = loader.load_data(filepath)\n",
    "print(f\"Initial shape: {data.shape}\")\n",
    "\n",
    "\n",
    "\n"
   ]
  },
  {
   "cell_type": "code",
   "execution_count": 23,
   "id": "a985607b-e118-4464-8b95-df351915b4ca",
   "metadata": {},
   "outputs": [
    {
     "name": "stdout",
     "output_type": "stream",
     "text": [
      "InvoiceNo           0\n",
      "StockCode           0\n",
      "Description      1454\n",
      "Quantity            0\n",
      "InvoiceDate         0\n",
      "UnitPrice           0\n",
      "CustomerID     135080\n",
      "Country             0\n",
      "dtype: int64\n",
      "Shape after handling missing values: (406829, 8)\n"
     ]
    }
   ],
   "source": [
    "cleaner = DataCleaner()\n",
    "\n",
    "# Handle missing values\n",
    "data = cleaner.handle_missing_values(data)\n",
    "print(f\"Shape after handling missing values: {data.shape}\")\n"
   ]
  },
  {
   "cell_type": "code",
   "execution_count": 24,
   "id": "204c2c2b-d19d-4bdc-87bf-129964d39a96",
   "metadata": {},
   "outputs": [
    {
     "name": "stdout",
     "output_type": "stream",
     "text": [
      "\n",
      "=== Duplicate Report ===\n",
      "Initial rows: 406829\n",
      "Duplicate rows found: 10148\n",
      "\n",
      "Example duplicate rows:\n",
      "InvoiceNo StockCode                     Description  Quantity         InvoiceDate  UnitPrice  CustomerID        Country\n",
      "   536381     71270                 PHOTO CLIP LINE       3.0 2010-12-01 09:41:00       1.25     15311.0 United Kingdom\n",
      "   536409    90199C 5 STRAND GLASS NECKLACE CRYSTAL       1.0 2010-12-01 11:45:00       6.35     17908.0 United Kingdom\n",
      "\n",
      "Rows after removal: 396681\n",
      "Total duplicates removed: 10148\n",
      "Final shape after all cleaning: (396681, 8)\n"
     ]
    }
   ],
   "source": [
    "# Validate data types and remove duplicates\n",
    "data = cleaner.validate_values(data)\n",
    "print(f\"Final shape after all cleaning: {data.shape}\")\n"
   ]
  },
  {
   "cell_type": "code",
   "execution_count": 25,
   "id": "4086e2b4-1391-43a0-8047-871389e996ca",
   "metadata": {},
   "outputs": [
    {
     "name": "stdout",
     "output_type": "stream",
     "text": [
      "Cleaned data saved successfully!\n",
      "       InvoiceNo StockCode                          Description  Quantity  \\\n",
      "0         536365    85123A   WHITE HANGING HEART T-LIGHT HOLDER       6.0   \n",
      "1         536365     71053                  WHITE METAL LANTERN       6.0   \n",
      "2         536365    84406B       CREAM CUPID HEARTS COAT HANGER       8.0   \n",
      "3         536365    84029G  KNITTED UNION FLAG HOT WATER BOTTLE       6.0   \n",
      "4         536365    84029E       RED WOOLLY HOTTIE WHITE HEART.       6.0   \n",
      "...          ...       ...                                  ...       ...   \n",
      "541904    581587     22613          PACK OF 20 SPACEBOY NAPKINS      12.0   \n",
      "541905    581587     22899         CHILDREN'S APRON DOLLY GIRL        6.0   \n",
      "541906    581587     23254        CHILDRENS CUTLERY DOLLY GIRL        4.0   \n",
      "541907    581587     23255      CHILDRENS CUTLERY CIRCUS PARADE       4.0   \n",
      "541908    581587     22138        BAKING SET 9 PIECE RETROSPOT        3.0   \n",
      "\n",
      "               InvoiceDate  UnitPrice  CustomerID         Country  \n",
      "0      2010-12-01 08:26:00       2.55     17850.0  United Kingdom  \n",
      "1      2010-12-01 08:26:00       3.39     17850.0  United Kingdom  \n",
      "2      2010-12-01 08:26:00       2.75     17850.0  United Kingdom  \n",
      "3      2010-12-01 08:26:00       3.39     17850.0  United Kingdom  \n",
      "4      2010-12-01 08:26:00       3.39     17850.0  United Kingdom  \n",
      "...                    ...        ...         ...             ...  \n",
      "541904 2011-12-09 12:50:00       0.85     12680.0          France  \n",
      "541905 2011-12-09 12:50:00       2.10     12680.0          France  \n",
      "541906 2011-12-09 12:50:00       4.15     12680.0          France  \n",
      "541907 2011-12-09 12:50:00       4.15     12680.0          France  \n",
      "541908 2011-12-09 12:50:00       4.95     12680.0          France  \n",
      "\n",
      "[396681 rows x 8 columns]\n"
     ]
    }
   ],
   "source": [
    "# Save cleaned data\n",
    "print(cleaner.save_chanegs(data))\n",
    "\n"
   ]
  },
  {
   "cell_type": "code",
   "execution_count": null,
   "id": "6e63672a-f1c2-4070-a35a-5d420efac1d9",
   "metadata": {},
   "outputs": [],
   "source": []
  }
 ],
 "metadata": {
  "kernelspec": {
   "display_name": "Python [conda env:base] *",
   "language": "python",
   "name": "conda-base-py"
  },
  "language_info": {
   "codemirror_mode": {
    "name": "ipython",
    "version": 3
   },
   "file_extension": ".py",
   "mimetype": "text/x-python",
   "name": "python",
   "nbconvert_exporter": "python",
   "pygments_lexer": "ipython3",
   "version": "3.12.7"
  }
 },
 "nbformat": 4,
 "nbformat_minor": 5
}
