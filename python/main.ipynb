{
 "cells": [
  {
   "cell_type": "code",
   "execution_count": 1,
   "id": "1088a047-d97d-4f43-ad48-4cb9f8048a86",
   "metadata": {},
   "outputs": [
    {
     "name": "stdout",
     "output_type": "stream",
     "text": [
      "Requirement already satisfied: pandas in /opt/anaconda3/lib/python3.12/site-packages (2.2.2)\n",
      "Requirement already satisfied: numpy>=1.26.0 in /opt/anaconda3/lib/python3.12/site-packages (from pandas) (1.26.4)\n",
      "Requirement already satisfied: python-dateutil>=2.8.2 in /opt/anaconda3/lib/python3.12/site-packages (from pandas) (2.9.0.post0)\n",
      "Requirement already satisfied: pytz>=2020.1 in /opt/anaconda3/lib/python3.12/site-packages (from pandas) (2024.1)\n",
      "Requirement already satisfied: tzdata>=2022.7 in /opt/anaconda3/lib/python3.12/site-packages (from pandas) (2023.3)\n",
      "Requirement already satisfied: six>=1.5 in /opt/anaconda3/lib/python3.12/site-packages (from python-dateutil>=2.8.2->pandas) (1.16.0)\n",
      "Note: you may need to restart the kernel to use updated packages.\n",
      "Requirement already satisfied: mysql-connector-python in /opt/anaconda3/lib/python3.12/site-packages (9.2.0)\n",
      "Note: you may need to restart the kernel to use updated packages.\n",
      "Requirement already satisfied: decouple in /opt/anaconda3/lib/python3.12/site-packages (0.0.7)\n",
      "Note: you may need to restart the kernel to use updated packages.\n",
      "Requirement already satisfied: pymysql in /opt/anaconda3/lib/python3.12/site-packages (1.1.1)\n",
      "Requirement already satisfied: sqlalchemy in /opt/anaconda3/lib/python3.12/site-packages (2.0.34)\n",
      "Requirement already satisfied: typing-extensions>=4.6.0 in /opt/anaconda3/lib/python3.12/site-packages (from sqlalchemy) (4.11.0)\n",
      "Note: you may need to restart the kernel to use updated packages.\n",
      "Requirement already satisfied: python-dotenv in /opt/anaconda3/lib/python3.12/site-packages (0.21.0)\n",
      "Note: you may need to restart the kernel to use updated packages.\n",
      "Requirement already satisfied: numpy in /opt/anaconda3/lib/python3.12/site-packages (1.26.4)\n",
      "Note: you may need to restart the kernel to use updated packages.\n",
      "Requirement already satisfied: plotly in /opt/anaconda3/lib/python3.12/site-packages (5.24.1)\n",
      "Requirement already satisfied: tenacity>=6.2.0 in /opt/anaconda3/lib/python3.12/site-packages (from plotly) (8.2.3)\n",
      "Requirement already satisfied: packaging in /opt/anaconda3/lib/python3.12/site-packages (from plotly) (24.1)\n",
      "Note: you may need to restart the kernel to use updated packages.\n"
     ]
    }
   ],
   "source": [
    "%pip install pandas \n",
    "%pip install mysql-connector-python\n",
    "%pip install decouple\n",
    "%pip install pymysql sqlalchemy\n",
    "%pip install python-dotenv\n",
    "%pip install numpy\n",
    "%pip install plotly\n",
    "\n"
   ]
  },
  {
   "cell_type": "code",
   "execution_count": 2,
   "id": "760deeda-542c-4dbb-a837-b3f0c133c7ca",
   "metadata": {},
   "outputs": [],
   "source": [
    "import os\n",
    "\n",
    "import pandas as pd\n",
    "import numpy as np\n",
    "\n",
    "\n",
    "from sqlalchemy import create_engine\n",
    "from dotenv import load_dotenv\n",
    "from datetime import datetime\n",
    "\n",
    "\n",
    "import plotly.express as px\n",
    "import plotly.graph_objects as go\n",
    "\n",
    "import scipy.stats as stats\n",
    "from scipy.stats import zscore\n",
    "\n",
    "\n",
    "import plotly.express as px\n",
    "import pandas as pd\n",
    "\n",
    "import logging\n",
    "\n",
    "\n",
    "\n",
    "\n"
   ]
  },
  {
   "cell_type": "code",
   "execution_count": 3,
   "id": "742af900-8a7e-42f5-90a3-99bc6f6cd68d",
   "metadata": {},
   "outputs": [],
   "source": [
    "logging.basicConfig(\n",
    "    level=logging.INFO,  \n",
    "    format='%(asctime)s - %(levelname)s - %(message)s',  # Log message format\n",
    "    # filename='app.log'  # Log to a file (optional)\n",
    ")"
   ]
  },
  {
   "cell_type": "code",
   "execution_count": 4,
   "id": "9c25036b-5fd3-497b-b59b-b0ba0505f877",
   "metadata": {},
   "outputs": [],
   "source": [
    "class DataLoader:\n",
    "    def __init__(self, raw_data):\n",
    "        self.raw_data = raw_data\n",
    "\n",
    "    def read_data(self):\n",
    "        \"\"\"\n",
    "        handling file existence, empty dataset, and parsing errors\n",
    "        \"\"\"\n",
    "        try:\n",
    "            return pd.read_csv(self.raw_data, encoding=\"ISO-8859-1\", engine='python')\n",
    "            logging.info(\"read the dataset successfully\")\n",
    "        except FileNotFoundError:\n",
    "            logging.error(\"Error: The file was not found.\")\n",
    "        except pd.errors.EmptyDataError:\n",
    "            logging.error(\"Error: The file is empty.\")\n",
    "        except pd.errors.ParserError:\n",
    "            logging.error(\"Error: The file could not be parsed.\")"
   ]
  },
  {
   "cell_type": "code",
   "execution_count": 5,
   "id": "084231af-e4c5-403f-bbd5-5021f448c9b4",
   "metadata": {},
   "outputs": [],
   "source": [
    "class DataCleaner:\n",
    "    def __init__(self, raw_data):\n",
    "        self.raw_data = raw_data\n",
    "\n",
    "    def percentage_of_rows_with_missing_values(self):\n",
    "        try:\n",
    "            rows_with_missing = self.raw_data.isnull().any(axis=1).sum()\n",
    "            total_rows = len(self.raw_data)\n",
    "            percentage = (rows_with_missing / total_rows) * 100\n",
    "            logging.info(f\"Successfully got the percentage of rows with missing values: {percentage:.2f}%\")\n",
    "            return percentage\n",
    "        except Exception as e:\n",
    "            logging.error(f\"Failed to get the percentage of rows with missing values: {e}\")\n",
    "            return None\n",
    "\n",
    "    def percentage_of_duplicate_rows(self):\n",
    "        try:\n",
    "            total_rows = len(self.raw_data)\n",
    "            duplicate_rows = self.raw_data.duplicated().sum()\n",
    "            duplicate_percentage = (duplicate_rows / total_rows) * 100\n",
    "            logging.info(f\"Successfully got the percentage of duplicate rows: {duplicate_percentage:.2f}%\")\n",
    "            return duplicate_percentage\n",
    "        except Exception as e:\n",
    "            logging.error(f\"Failed to get the percentage of duplicate rows: {e}\")\n",
    "            return None\n",
    "\n",
    "    def percentage_of_columns_with_missing_values(self):\n",
    "        try:\n",
    "            columns_with_missing = self.raw_data.isnull().any(axis=0).sum()\n",
    "            total_columns = self.raw_data.shape[1]  # Corrected to use the number of columns\n",
    "            percentage = (columns_with_missing / total_columns) * 100\n",
    "            logging.info(f\"Successfully got the percentage of columns with missing values: {percentage:.2f}%\")\n",
    "            return percentage\n",
    "        except Exception as e:\n",
    "            logging.error(f\"Failed to get the percentage of columns with missing values: {e}\")\n",
    "            return None\n",
    "\n",
    "    def percentage_of_duplicate_columns(self):\n",
    "        try:\n",
    "            total_columns = self.raw_data.shape[1]  # Corrected to use the number of columns\n",
    "            duplicate_columns = self.raw_data.T.duplicated().sum()  # Transpose to check for duplicate columns\n",
    "            duplicate_percentage = (duplicate_columns / total_columns) * 100\n",
    "            logging.info(f\"Successfully got the percentage of duplicate columns: {duplicate_percentage:.2f}%\")\n",
    "            return duplicate_percentage\n",
    "        except Exception as e:\n",
    "            logging.error(f\"Failed to get the percentage of duplicate columns: {e}\")\n",
    "            return None\n",
    "\n",
    "    def percentage_of_null_value_rows(self):\n",
    "        try:\n",
    "            rows_with_missing = self.raw_data.isnull().any(axis=1).sum()  # Count rows with any missing value\n",
    "            total_rows = len(self.raw_data)\n",
    "            null_percentage = (rows_with_missing / total_rows) * 100\n",
    "            logging.info(f\"Successfully got the percentage of rows with missing values: {null_percentage:.2f}%\")\n",
    "            return null_percentage\n",
    "        except Exception as e:\n",
    "            logging.error(f\"Failed to get the percentage of null value rows: {e}\")\n",
    "            return None\n",
    "\n"
   ]
  },
  {
   "cell_type": "code",
   "execution_count": 6,
   "id": "abf30cf3-be94-4ddd-9fb1-77c5b349bc1a",
   "metadata": {},
   "outputs": [],
   "source": [
    "if __name__ == \"__main__\":\n",
    "    raw_dataset = '../dataset/raw/market_sales.csv'"
   ]
  },
  {
   "cell_type": "code",
   "execution_count": 7,
   "id": "12af6d89-8af8-40ce-b2b9-62c5a32e08b0",
   "metadata": {},
   "outputs": [],
   "source": [
    "    loader = DataLoader(raw_dataset)"
   ]
  },
  {
   "cell_type": "code",
   "execution_count": 8,
   "id": "2b70fe88-e46f-4715-ac53-dd98b86586f5",
   "metadata": {},
   "outputs": [],
   "source": [
    "    data = loader.read_data()"
   ]
  },
  {
   "cell_type": "code",
   "execution_count": 9,
   "id": "8b710e26-6465-4037-81f8-c8a6c7b66dd5",
   "metadata": {},
   "outputs": [
    {
     "name": "stdout",
     "output_type": "stream",
     "text": [
      "<class 'pandas.core.frame.DataFrame'>\n",
      "RangeIndex: 1000 entries, 0 to 999\n",
      "Data columns (total 9 columns):\n",
      " #   Column         Non-Null Count  Dtype  \n",
      "---  ------         --------------  -----  \n",
      " 0   Gender         1000 non-null   object \n",
      " 1   Invoice ID     1000 non-null   object \n",
      " 2   Branch         1000 non-null   object \n",
      " 3   City           1000 non-null   object \n",
      " 4   Customer type  1000 non-null   object \n",
      " 5   Product line   1000 non-null   object \n",
      " 6   Unit price     1000 non-null   float64\n",
      " 7   Quantity       1000 non-null   int64  \n",
      " 8   Tax 5%         1000 non-null   float64\n",
      "dtypes: float64(2), int64(1), object(6)\n",
      "memory usage: 70.4+ KB\n"
     ]
    }
   ],
   "source": [
    "    data.info()"
   ]
  },
  {
   "cell_type": "code",
   "execution_count": 10,
   "id": "20a17613-fd41-4db8-b67a-7814bcc7f096",
   "metadata": {},
   "outputs": [
    {
     "data": {
      "text/plain": [
       "Index(['Gender', 'Invoice ID', 'Branch', 'City', 'Customer type',\n",
       "       'Product line', 'Unit price', 'Quantity', 'Tax 5%'],\n",
       "      dtype='object')"
      ]
     },
     "execution_count": 10,
     "metadata": {},
     "output_type": "execute_result"
    }
   ],
   "source": [
    "    data.columns"
   ]
  },
  {
   "cell_type": "code",
   "execution_count": 11,
   "id": "78d65bbd-ce70-44cd-813e-59b1ace347ce",
   "metadata": {},
   "outputs": [
    {
     "name": "stdout",
     "output_type": "stream",
     "text": [
      "     Gender   Invoice ID Branch       City Customer type  \\\n",
      "0    Female  750-67-8428      A     Yangon        Member   \n",
      "1    Female  226-31-3081      C  Naypyitaw        Normal   \n",
      "2    Female  355-53-5943      A     Yangon        Member   \n",
      "3    Female  315-22-5665      C  Naypyitaw        Normal   \n",
      "4    Female  665-32-9167      A     Yangon        Member   \n",
      "..      ...          ...    ...        ...           ...   \n",
      "995    Male  745-74-0715      A     Yangon        Normal   \n",
      "996    Male  690-01-6631      B   Mandalay        Normal   \n",
      "997    Male  233-67-5758      C  Naypyitaw        Normal   \n",
      "998    Male  727-02-1313      A     Yangon        Member   \n",
      "999    Male  347-56-2442      A     Yangon        Normal   \n",
      "\n",
      "               Product line  Unit price  Quantity    Tax 5%  \n",
      "0         Health and beauty       74.69         7  261.4150  \n",
      "1    Electronic accessories       15.28         5    3.8200  \n",
      "2    Electronic accessories       68.84         6   20.6520  \n",
      "3        Home and lifestyle       73.56        10   36.7800  \n",
      "4         Health and beauty       36.26         2    3.6260  \n",
      "..                      ...         ...       ...       ...  \n",
      "995  Electronic accessories       58.03         2    5.8030  \n",
      "996     Fashion accessories       17.49        10    8.7450  \n",
      "997       Health and beauty       40.35         1    2.0175  \n",
      "998      Food and beverages       31.84         1    1.5920  \n",
      "999      Home and lifestyle       65.82         1    3.2910  \n",
      "\n",
      "[1000 rows x 9 columns]\n"
     ]
    }
   ],
   "source": [
    "    print(data)"
   ]
  },
  {
   "cell_type": "code",
   "execution_count": 12,
   "id": "411cd60d-fccb-43c5-9453-b9b4a72cec8b",
   "metadata": {},
   "outputs": [],
   "source": [
    "    cleaner = DataCleaner(data)"
   ]
  },
  {
   "cell_type": "markdown",
   "id": "0c0fdeeb-e42d-4171-92e4-5838167c2aa4",
   "metadata": {},
   "source": [
    "# Percentage of rows with missing values\n",
    "There are no rows with missing values"
   ]
  },
  {
   "cell_type": "code",
   "execution_count": 14,
   "id": "037b9f1f-746d-4ba6-8dee-542660e2caf2",
   "metadata": {},
   "outputs": [
    {
     "name": "stderr",
     "output_type": "stream",
     "text": [
      "2025-03-17 00:12:14,171 - INFO - Successfully got the percentage of rows with missing values: 0.00%\n"
     ]
    },
    {
     "data": {
      "text/plain": [
       "0.0"
      ]
     },
     "execution_count": 14,
     "metadata": {},
     "output_type": "execute_result"
    }
   ],
   "source": [
    "    cleaner.percentage_of_rows_with_missing_values()"
   ]
  },
  {
   "cell_type": "markdown",
   "id": "f0b9fc25-9ea9-480f-bf31-7e122a4b0f76",
   "metadata": {},
   "source": [
    "# Percentage of duplicate rows\n",
    "There are no duplicate rows"
   ]
  },
  {
   "cell_type": "code",
   "execution_count": 16,
   "id": "46b5af59-3c9e-44ee-811a-1f9a61f8d69a",
   "metadata": {},
   "outputs": [
    {
     "name": "stderr",
     "output_type": "stream",
     "text": [
      "2025-03-17 00:12:14,193 - INFO - Successfully got the percentage of duplicate rows: 0.00%\n"
     ]
    },
    {
     "data": {
      "text/plain": [
       "0.0"
      ]
     },
     "execution_count": 16,
     "metadata": {},
     "output_type": "execute_result"
    }
   ],
   "source": [
    "    cleaner.percentage_of_duplicate_rows()"
   ]
  },
  {
   "cell_type": "markdown",
   "id": "e59717c1-89b0-4424-b0ec-e35a40ddcb36",
   "metadata": {},
   "source": [
    "# Percentage of columns with missing values"
   ]
  },
  {
   "cell_type": "code",
   "execution_count": 18,
   "id": "93783176-4c84-4afc-b7f4-3694025f5801",
   "metadata": {},
   "outputs": [
    {
     "name": "stderr",
     "output_type": "stream",
     "text": [
      "2025-03-17 00:12:14,216 - INFO - Successfully got the percentage of columns with missing values: 0.00%\n"
     ]
    },
    {
     "data": {
      "text/plain": [
       "0.0"
      ]
     },
     "execution_count": 18,
     "metadata": {},
     "output_type": "execute_result"
    }
   ],
   "source": [
    "    cleaner.percentage_of_columns_with_missing_values()"
   ]
  },
  {
   "cell_type": "markdown",
   "id": "254800ac-2d23-47bc-a0ca-f97938180b5c",
   "metadata": {},
   "source": [
    "# Percentage of duplicate columns\n",
    "There are no duplicate columns"
   ]
  },
  {
   "cell_type": "code",
   "execution_count": 20,
   "id": "dcd9998b-6430-4112-8a93-3e6906dfe71a",
   "metadata": {},
   "outputs": [
    {
     "name": "stderr",
     "output_type": "stream",
     "text": [
      "2025-03-17 00:12:14,264 - INFO - Successfully got the percentage of duplicate columns: 0.00%\n"
     ]
    },
    {
     "data": {
      "text/plain": [
       "0.0"
      ]
     },
     "execution_count": 20,
     "metadata": {},
     "output_type": "execute_result"
    }
   ],
   "source": [
    "    cleaner.percentage_of_duplicate_columns()"
   ]
  },
  {
   "cell_type": "markdown",
   "id": "dd414994-2380-41fd-8252-8a28264be553",
   "metadata": {},
   "source": [
    "# Percentage of rows with null values"
   ]
  },
  {
   "cell_type": "code",
   "execution_count": 21,
   "id": "b509ca82-11f9-4fdb-96a6-2b92a8a7a5a7",
   "metadata": {},
   "outputs": [
    {
     "name": "stderr",
     "output_type": "stream",
     "text": [
      "2025-03-17 00:12:14,269 - INFO - Successfully got the percentage of rows with missing values: 0.00%\n"
     ]
    },
    {
     "data": {
      "text/plain": [
       "0.0"
      ]
     },
     "execution_count": 21,
     "metadata": {},
     "output_type": "execute_result"
    }
   ],
   "source": [
    "    cleaner.percentage_of_null_value_rows()"
   ]
  },
  {
   "cell_type": "code",
   "execution_count": 45,
   "id": "0112aa02-c246-4094-bc61-a46e14664427",
   "metadata": {},
   "outputs": [
    {
     "data": {
      "text/plain": [
       "Index(['Gender', 'Invoice ID', 'Branch', 'City', 'Customer type',\n",
       "       'Product line', 'Unit price', 'Quantity', 'Tax 5%'],\n",
       "      dtype='object')"
      ]
     },
     "execution_count": 45,
     "metadata": {},
     "output_type": "execute_result"
    }
   ],
   "source": [
    "    data.columns"
   ]
  },
  {
   "cell_type": "markdown",
   "id": "d05e4c97-5d4d-4480-9c0c-31be96373a91",
   "metadata": {},
   "source": [
    "# Gender attributes are correct"
   ]
  },
  {
   "cell_type": "code",
   "execution_count": 47,
   "id": "56c73a55-7ac7-4b7d-a48b-82d9d216ddfc",
   "metadata": {},
   "outputs": [
    {
     "data": {
      "text/plain": [
       "array(['Female', 'Male'], dtype=object)"
      ]
     },
     "execution_count": 47,
     "metadata": {},
     "output_type": "execute_result"
    }
   ],
   "source": [
    "    data['Gender'].unique()"
   ]
  },
  {
   "cell_type": "markdown",
   "id": "6177f92a-d14a-4936-81c8-fb59b0844e10",
   "metadata": {},
   "source": [
    "# The Branches\n",
    "- A\n",
    "- B\n",
    "- C"
   ]
  },
  {
   "cell_type": "code",
   "execution_count": 51,
   "id": "52cf4124-1622-4176-afe1-034a07ba3e09",
   "metadata": {},
   "outputs": [
    {
     "data": {
      "text/plain": [
       "array(['A', 'C', 'B'], dtype=object)"
      ]
     },
     "execution_count": 51,
     "metadata": {},
     "output_type": "execute_result"
    }
   ],
   "source": [
    "    data['Branch'].unique()"
   ]
  },
  {
   "cell_type": "markdown",
   "id": "4f0b780d-0cc6-4437-a828-21d52d9985ee",
   "metadata": {},
   "source": [
    "# The Cities\n",
    "- Yangon\n",
    "- Naypyitaw\n",
    "- Mandalay"
   ]
  },
  {
   "cell_type": "code",
   "execution_count": 55,
   "id": "e0336249-c71b-4d87-9bbe-3bc37694ae0b",
   "metadata": {},
   "outputs": [
    {
     "data": {
      "text/plain": [
       "array(['Yangon', 'Naypyitaw', 'Mandalay'], dtype=object)"
      ]
     },
     "execution_count": 55,
     "metadata": {},
     "output_type": "execute_result"
    }
   ],
   "source": [
    "    data['City'].unique()"
   ]
  },
  {
   "cell_type": "markdown",
   "id": "06f8eb63-e7a9-4f90-8992-ed897afb5f2f",
   "metadata": {},
   "source": [
    "# Customer types\n",
    "- Normal\n",
    "- Member"
   ]
  },
  {
   "cell_type": "code",
   "execution_count": 59,
   "id": "c85fbb81-8338-4fcf-bb1d-4cf75970b487",
   "metadata": {},
   "outputs": [
    {
     "data": {
      "text/plain": [
       "array(['Member', 'Normal'], dtype=object)"
      ]
     },
     "execution_count": 59,
     "metadata": {},
     "output_type": "execute_result"
    }
   ],
   "source": [
    "    data['Customer type'].unique()"
   ]
  },
  {
   "cell_type": "markdown",
   "id": "062009de-4102-430c-9d7d-47d1869ebd78",
   "metadata": {},
   "source": [
    "# Product line\n",
    "- Health and beauty\n",
    "- Electronic accessories\n",
    "- Home and lifestyle\n",
    "- Food and beverages\n",
    "- Fashion accessories\n",
    "- Sports and travel"
   ]
  },
  {
   "cell_type": "code",
   "execution_count": 62,
   "id": "58466373-97ca-4efa-85e4-89178a195db3",
   "metadata": {},
   "outputs": [
    {
     "data": {
      "text/plain": [
       "array(['Health and beauty', 'Electronic accessories',\n",
       "       'Home and lifestyle', 'Food and beverages', 'Fashion accessories',\n",
       "       'Sports and travel'], dtype=object)"
      ]
     },
     "execution_count": 62,
     "metadata": {},
     "output_type": "execute_result"
    }
   ],
   "source": [
    "    data['Product line'].unique()"
   ]
  },
  {
   "cell_type": "markdown",
   "id": "db1598e1-7489-4db9-bf55-6476c1375f7e",
   "metadata": {},
   "source": [
    "# The prices are from 10.08 to 99.96"
   ]
  },
  {
   "cell_type": "code",
   "execution_count": 103,
   "id": "afd66bef-49f5-4544-9068-caac585e135c",
   "metadata": {},
   "outputs": [
    {
     "name": "stdout",
     "output_type": "stream",
     "text": [
      "10.08-99.96\n"
     ]
    }
   ],
   "source": [
    "    print(f\"{data['Unit price'].min()}-{data['Unit price'].max()}\")"
   ]
  },
  {
   "cell_type": "markdown",
   "id": "d22b16ca-39a9-4fab-b1a6-54fd321f73bc",
   "metadata": {},
   "source": [
    "# The qunatities range between 1-10"
   ]
  },
  {
   "cell_type": "code",
   "execution_count": 99,
   "id": "75b3f9d9-19a3-46be-81df-d4ee6b8fc785",
   "metadata": {},
   "outputs": [
    {
     "name": "stdout",
     "output_type": "stream",
     "text": [
      "1-10\n"
     ]
    }
   ],
   "source": [
    "    print(f\"{data['Quantity'].min()}-{data['Quantity'].max()}\")"
   ]
  },
  {
   "cell_type": "code",
   "execution_count": null,
   "id": "9dd8bcfa-8b50-411f-bd60-008862031ef7",
   "metadata": {},
   "outputs": [],
   "source": []
  }
 ],
 "metadata": {
  "kernelspec": {
   "display_name": "Python [conda env:base] *",
   "language": "python",
   "name": "conda-base-py"
  },
  "language_info": {
   "codemirror_mode": {
    "name": "ipython",
    "version": 3
   },
   "file_extension": ".py",
   "mimetype": "text/x-python",
   "name": "python",
   "nbconvert_exporter": "python",
   "pygments_lexer": "ipython3",
   "version": "3.12.7"
  }
 },
 "nbformat": 4,
 "nbformat_minor": 5
}
