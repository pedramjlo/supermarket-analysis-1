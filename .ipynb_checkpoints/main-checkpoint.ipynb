{
 "cells": [
  {
   "cell_type": "code",
   "execution_count": 8,
   "id": "231d7c72-6911-40f9-9621-36362f6ae902",
   "metadata": {},
   "outputs": [],
   "source": [
    "import os\n",
    "project_root = os.path.abspath(os.path.join(os.getcwd(), '..'))\n",
    "\n",
    "base_dir = os.path.dirname(os.path.abspath(__file__))\n",
    "\n",
    "os.path.join(base_dir, 'data_saving')"
   ]
  },
  {
   "cell_type": "code",
   "execution_count": 13,
   "id": "7e3f8012-3d4f-4d6c-b5b9-5884f849ae2d",
   "metadata": {},
   "outputs": [
    {
     "ename": "ModuleNotFoundError",
     "evalue": "No module named 'dataCleaning'",
     "output_type": "error",
     "traceback": [
      "\u001b[0;31m---------------------------------------------------------------------------\u001b[0m",
      "\u001b[0;31mModuleNotFoundError\u001b[0m                       Traceback (most recent call last)",
      "Cell \u001b[0;32mIn[13], line 1\u001b[0m\n\u001b[0;32m----> 1\u001b[0m \u001b[38;5;28;01mfrom\u001b[39;00m \u001b[38;5;21;01mdataCleaning\u001b[39;00m \u001b[38;5;28;01mimport\u001b[39;00m DataCleaning\n",
      "\u001b[0;31mModuleNotFoundError\u001b[0m: No module named 'dataCleaning'"
     ]
    }
   ],
   "source": [
    "from dataCleaning import DataCleaning"
   ]
  },
  {
   "cell_type": "code",
   "execution_count": null,
   "id": "e96fdb87-182c-4ac5-b355-31b0cc8b6ab6",
   "metadata": {},
   "outputs": [],
   "source": []
  }
 ],
 "metadata": {
  "kernelspec": {
   "display_name": "Python [conda env:base] *",
   "language": "python",
   "name": "conda-base-py"
  },
  "language_info": {
   "codemirror_mode": {
    "name": "ipython",
    "version": 3
   },
   "file_extension": ".py",
   "mimetype": "text/x-python",
   "name": "python",
   "nbconvert_exporter": "python",
   "pygments_lexer": "ipython3",
   "version": "3.12.7"
  }
 },
 "nbformat": 4,
 "nbformat_minor": 5
}
